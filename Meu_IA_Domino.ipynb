{
  "nbformat": 4,
  "nbformat_minor": 0,
  "metadata": {
    "colab": {
      "private_outputs": true,
      "provenance": [],
      "authorship_tag": "ABX9TyNa/rQiLkvq0u0ca+NlEC44",
      "include_colab_link": true
    },
    "kernelspec": {
      "name": "python3",
      "display_name": "Python 3"
    },
    "language_info": {
      "name": "python"
    }
  },
  "cells": [
    {
      "cell_type": "markdown",
      "metadata": {
        "id": "view-in-github",
        "colab_type": "text"
      },
      "source": [
        "<a href=\"https://colab.research.google.com/github/dawdson/Meu_IA_Domino/blob/main/Meu_IA_Domino.ipynb\" target=\"_parent\"><img src=\"https://colab.research.google.com/assets/colab-badge.svg\" alt=\"Open In Colab\"/></a>"
      ]
    },
    {
      "cell_type": "code",
      "execution_count": null,
      "metadata": {
        "id": "Y6BnA-QEEORJ"
      },
      "outputs": [],
      "source": [
        "#Instalando o SDK do Google\n",
        "!pip install -q -U google-generativeai\n",
        "\n",
        "# Import the Python SDK\n",
        "import google.generativeai as genai\n",
        "# Used to securely store your API key\n",
        "from google.colab import userdata\n",
        "\n",
        "# coneãxão para esconder a api_user_key\n",
        "#\n",
        "# genai.configure(api_key=GOOGLE_API_KEY)\n",
        "#\n",
        "api_key = userdata.get('SECRET_KEY')\n",
        "genai.configure(api_key=api_key)\n",
        "\n",
        "model = genai.GenerativeModel(model_name=\"gemini-1.0-pro-001\")\n"
      ]
    },
    {
      "cell_type": "markdown",
      "source": [
        "# Nova seção"
      ],
      "metadata": {
        "id": "T1-tifhJr4cT"
      }
    },
    {
      "cell_type": "code",
      "source": [
        "#Inicio da programação do CHAT.\n",
        "#os colchetes [ ] criam uma lista para o python\n",
        "\n",
        "response = model.generate_content(\"quantas peças possui o jogo de domino.\")\n",
        "print(response.text)"
      ],
      "metadata": {
        "id": "XnPe6oEyfZbB"
      },
      "execution_count": null,
      "outputs": []
    },
    {
      "cell_type": "code",
      "source": [
        "response = model.generate_content(\"lista para mim ass peças do jogo de domino, sem a distinção do tipo.\")\n",
        "# print(response.text)\n",
        "Jogo = response.text\n",
        "print(Jogo)"
      ],
      "metadata": {
        "id": "IvQPQvgSyGVn"
      },
      "execution_count": null,
      "outputs": []
    }
  ]
}